{
 "cells": [
  {
   "cell_type": "code",
   "execution_count": 1,
   "metadata": {},
   "outputs": [],
   "source": [
    "import flask\n",
    "import pickle\n",
    "from flask import Flask, render_template, request"
   ]
  },
  {
   "cell_type": "code",
   "execution_count": null,
   "metadata": {},
   "outputs": [
    {
     "name": "stdout",
     "output_type": "stream",
     "text": [
      " * Serving Flask app \"__main__\" (lazy loading)\n",
      " * Environment: production\n",
      "   WARNING: This is a development server. Do not use it in a production deployment.\n",
      "   Use a production WSGI server instead.\n",
      " * Debug mode: off\n"
     ]
    },
    {
     "name": "stderr",
     "output_type": "stream",
     "text": [
      " * Running on http://127.0.0.1:5000/ (Press CTRL+C to quit)\n",
      "127.0.0.1 - - [20/Apr/2021 13:15:25] \"\u001b[37mGET / HTTP/1.1\u001b[0m\" 200 -\n",
      "127.0.0.1 - - [20/Apr/2021 13:16:00] \"\u001b[37mPOST /result HTTP/1.1\u001b[0m\" 200 -\n",
      "127.0.0.1 - - [20/Apr/2021 13:16:00] \"\u001b[37mGET /static/unhealthyheart.gif HTTP/1.1\u001b[0m\" 200 -\n"
     ]
    }
   ],
   "source": [
    "#creating instance of the class\n",
    "app=Flask(__name__)\n",
    "#to tell flask what url shoud trigger the function index()\n",
    "@app.route('/')\n",
    "def index(): \n",
    "    return flask.render_template('ind.htm')\n",
    "#prediction function\n",
    "@app.route('/highrisk')\n",
    "@app.route('/lowrisk')\n",
    "@app.route('/result',methods = ['POST','GET']) \n",
    "def result():\n",
    "    if request.method == 'POST':\n",
    "        male= request.form['male']\n",
    "        age=request.form['age']\n",
    "        cigsPerDay=request.form['cigsPerDay']\n",
    "        prevalentHyp=request.form['prevalentHyp']\n",
    "        diabetes=request.form['diabetes']\n",
    "        totChol=request.form['totChol']\n",
    "        sysBP= request.form['sysBP']\n",
    "        diaBP=request.form['diaBP']\n",
    "        #BPMeds=request.form['BPMeds']\n",
    "        glucose=request.form['glucose']\n",
    "        to_predict_list=[male,age, cigsPerDay,prevalentHyp, diabetes,totChol, sysBP, diaBP, glucose]\n",
    "        to_predict_list=[to_predict_list]#to covert ino 2D array\n",
    "        loaded_model = pickle.load(open(\"fram.pkl\",\"rb\")) #unpickling the model\n",
    "        result = loaded_model.predict(to_predict_list)\n",
    "        if int(result)==1:\n",
    "            #to insert user entry into database\n",
    "            #cursor.execute(\"INSERT INTO User_entry (gender, age, cigsPerDay, prevalentHyp, diabetes,totChol, sysBP, BMI, heartRate, glucose, HeartRisk) VALUES(?,?,?,?,?,?,?,?,?,?,?)\",(gender, age, cigsPerDay, prevalentHyp, diabetes,totChol, sysBP, BMI, heartRate, glucose, 1))\n",
    "            #cursor.execute(\"COMMIT\")\n",
    "            #display the ouput\n",
    "            return render_template('highrisk.htm')\n",
    "            #return render_template('high.htm')\n",
    "        else:\n",
    "            #cursor.execute(\"INSERT INTO User_entry (gender, age, cigsPerDay, prevalentHyp, diabetes,totChol, sysBP, BMI, heartRate, glucose, HeartRisk) VALUES(?,?,?,?,?,?,?,?,?,?,?)\",(gender, age, cigsPerDay, prevalentHyp, diabetes,totChol, sysBP, BMI, heartRate, glucose, 0))\n",
    "            #cursor.execute(\"COMMIT\")\n",
    "            return render_template('lowrisk.htm')\n",
    "'''\n",
    "@app.route(\"/riskpatients\",methods=['POST'])\n",
    "def riskpatients():\n",
    "    if(request.form[\"submit\"]=='HEALTH INSURANCE POLICIES'):\n",
    "        return render_template(\"insurance.htm\")\n",
    "    elif(request.form[\"submit\"]==\"CARDIOLOGISTS IN CHENNAI\"):\n",
    "        return render_template(\"doctors.htm\")\n",
    "    else:\n",
    "        pass\n",
    "'''\n",
    "if __name__==\"__main__\":\n",
    "    app.run()"
   ]
  },
  {
   "cell_type": "code",
   "execution_count": null,
   "metadata": {},
   "outputs": [],
   "source": []
  }
 ],
 "metadata": {
  "kernelspec": {
   "display_name": "Python 3",
   "language": "python",
   "name": "python3"
  },
  "language_info": {
   "codemirror_mode": {
    "name": "ipython",
    "version": 3
   },
   "file_extension": ".py",
   "mimetype": "text/x-python",
   "name": "python",
   "nbconvert_exporter": "python",
   "pygments_lexer": "ipython3",
   "version": "3.8.5"
  }
 },
 "nbformat": 4,
 "nbformat_minor": 4
}
